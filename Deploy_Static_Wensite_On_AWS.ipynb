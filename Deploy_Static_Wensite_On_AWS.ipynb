{
 "cells": [
  {
   "cell_type": "markdown",
   "id": "promising-rebate",
   "metadata": {},
   "source": [
    "# Deploy and distribute static website on AWS with S3, CloudFront"
   ]
  },
  {
   "cell_type": "code",
   "execution_count": null,
   "id": "retained-moscow",
   "metadata": {},
   "outputs": [],
   "source": [
    "# Import libraries\n",
    "import configparser\n",
    "import boto3\n",
    "import json"
   ]
  },
  {
   "cell_type": "code",
   "execution_count": 34,
   "id": "muslim-vertex",
   "metadata": {},
   "outputs": [],
   "source": [
    "# AWS Access key and secret key should not be exposed \n",
    "config = configparser.ConfigParser()\n",
    "config.read('cloudfront.cfg')\n",
    "AWS_ACCESS_KEY = config['AWS']['ACCESS_KEY']\n",
    "SECRET_ACCESS_KEY = config['AWS']['SECRET_ACCESS_KEY']"
   ]
  },
  {
   "cell_type": "code",
   "execution_count": 6,
   "id": "contrary-entertainment",
   "metadata": {},
   "outputs": [],
   "source": [
    "# instantiate s3 client\n",
    "s3 = boto3.client(\n",
    "    's3',\n",
    "    aws_access_key_id=AWS_ACCESS_KEY,\n",
    "    aws_secret_access_key=SECRET_ACCESS_KEY,\n",
    "    region_name='us-west-2'\n",
    ")"
   ]
  },
  {
   "cell_type": "code",
   "execution_count": 7,
   "id": "younger-tunnel",
   "metadata": {},
   "outputs": [
    {
     "data": {
      "text/plain": [
       "<botocore.client.S3 at 0x10ed8bdf0>"
      ]
     },
     "execution_count": 7,
     "metadata": {},
     "output_type": "execute_result"
    }
   ],
   "source": [
    "s3"
   ]
  },
  {
   "cell_type": "markdown",
   "id": "external-amazon",
   "metadata": {},
   "source": [
    "## 1. Create S3 Bucket to host static website"
   ]
  },
  {
   "cell_type": "code",
   "execution_count": 35,
   "id": "moral-marker",
   "metadata": {},
   "outputs": [],
   "source": [
    "BUCKET_NAME = config['S3']['BUCKET_NAME']"
   ]
  },
  {
   "cell_type": "code",
   "execution_count": 9,
   "id": "third-ethernet",
   "metadata": {},
   "outputs": [
    {
     "data": {
      "text/plain": [
       "{'ResponseMetadata': {'RequestId': 'XDVDDKCMNMFDNMQ3',\n",
       "  'HostId': 'G27xvJL+KFltEtozzLK2NCRwZcKFOikPuzi1peRRDYs3cDkrkw0giUwYglh7ff1C8PRyYjt9SHs=',\n",
       "  'HTTPStatusCode': 200,\n",
       "  'HTTPHeaders': {'x-amz-id-2': 'G27xvJL+KFltEtozzLK2NCRwZcKFOikPuzi1peRRDYs3cDkrkw0giUwYglh7ff1C8PRyYjt9SHs=',\n",
       "   'x-amz-request-id': 'XDVDDKCMNMFDNMQ3',\n",
       "   'date': 'Fri, 19 Mar 2021 19:15:09 GMT',\n",
       "   'location': 'http://udac-static-webapp-demo.s3.amazonaws.com/',\n",
       "   'content-length': '0',\n",
       "   'server': 'AmazonS3'},\n",
       "  'RetryAttempts': 0},\n",
       " 'Location': 'http://udac-static-webapp-demo.s3.amazonaws.com/'}"
      ]
     },
     "execution_count": 9,
     "metadata": {},
     "output_type": "execute_result"
    }
   ],
   "source": [
    "# Create S3 Bucket to host the website  \n",
    "create_bucket_res = s3.create_bucket(Bucket=BUCKET_NAME,  \n",
    "                 CreateBucketConfiguration={\n",
    "        'LocationConstraint': 'us-west-2'\n",
    "    })\n",
    "create_bucket_res"
   ]
  },
  {
   "cell_type": "markdown",
   "id": "august-learning",
   "metadata": {},
   "source": [
    "## 2. Go to S3 console and upload index.html and other required components \n",
    "*Programiccally you can only upload files one-by-one. Upload via console is more efficient and secure if there are many files"
   ]
  },
  {
   "cell_type": "markdown",
   "id": "interesting-overhead",
   "metadata": {},
   "source": [
    "## 3. Update the bucket policy so that it can host static website"
   ]
  },
  {
   "cell_type": "code",
   "execution_count": 12,
   "id": "opposite-protein",
   "metadata": {},
   "outputs": [
    {
     "data": {
      "text/plain": [
       "{'ResponseMetadata': {'RequestId': 'NGZVZK52DZW9ZQ9E',\n",
       "  'HostId': 'edl7x7tUVMhSGUxOBGqX0xKCBVc393fPZdfsvYWBhtrzLnGs515p8vJog40Uio3TZKCWB+HbwFk=',\n",
       "  'HTTPStatusCode': 204,\n",
       "  'HTTPHeaders': {'x-amz-id-2': 'edl7x7tUVMhSGUxOBGqX0xKCBVc393fPZdfsvYWBhtrzLnGs515p8vJog40Uio3TZKCWB+HbwFk=',\n",
       "   'x-amz-request-id': 'NGZVZK52DZW9ZQ9E',\n",
       "   'date': 'Fri, 19 Mar 2021 19:23:24 GMT',\n",
       "   'server': 'AmazonS3'},\n",
       "  'RetryAttempts': 0}}"
      ]
     },
     "execution_count": 12,
     "metadata": {},
     "output_type": "execute_result"
    }
   ],
   "source": [
    "# this is json bucket policy \n",
    "bucket_policy_json = {\n",
    "    \"Version\":\"2012-10-17\",\n",
    "    \"Statement\":[\n",
    "     {\n",
    "       \"Sid\":\"AddPerm\",\n",
    "       \"Effect\":\"Allow\",\n",
    "       \"Principal\": \"*\",\n",
    "       \"Action\":[\"s3:GetObject\"],\n",
    "       \"Resource\":[\"arn:aws:s3:::\" + BUCKET_NAME + \"/*\"]\n",
    "     }\n",
    "    ]\n",
    "}\n",
    "\n",
    "bucket_policy = json.dumps(bucket_policy_json)\n",
    "\n",
    "bucket_policy_res = s3.put_bucket_policy(Bucket=BUCKET_NAME, Policy=bucket_policy)\n",
    "bucket_policy_res"
   ]
  },
  {
   "cell_type": "code",
   "execution_count": 13,
   "id": "clean-wound",
   "metadata": {},
   "outputs": [
    {
     "data": {
      "text/plain": [
       "{'ResponseMetadata': {'RequestId': '20QB6C8WXW9G2BJH',\n",
       "  'HostId': 'FoHOTJPPcMvCLfl9fKQJm2B2ARleDnHi9VP4uS5gD9aBCWwX32C2h898LJHZ927oVMjPFAMMOiY=',\n",
       "  'HTTPStatusCode': 200,\n",
       "  'HTTPHeaders': {'x-amz-id-2': 'FoHOTJPPcMvCLfl9fKQJm2B2ARleDnHi9VP4uS5gD9aBCWwX32C2h898LJHZ927oVMjPFAMMOiY=',\n",
       "   'x-amz-request-id': '20QB6C8WXW9G2BJH',\n",
       "   'date': 'Fri, 19 Mar 2021 19:25:25 GMT',\n",
       "   'content-length': '0',\n",
       "   'server': 'AmazonS3'},\n",
       "  'RetryAttempts': 0}}"
      ]
     },
     "execution_count": 13,
     "metadata": {},
     "output_type": "execute_result"
    }
   ],
   "source": [
    "# Define the website configuration\n",
    "website_configuration = {\n",
    "    'IndexDocument': {'Suffix': 'index.html'},\n",
    "}\n",
    "\n",
    "s3.put_bucket_website(Bucket=BUCKET_NAME,\n",
    "                      WebsiteConfiguration=website_configuration)"
   ]
  },
  {
   "cell_type": "markdown",
   "id": "divided-lawsuit",
   "metadata": {},
   "source": [
    "## 4. Use Cloudfront to distribute the static website globally"
   ]
  },
  {
   "cell_type": "code",
   "execution_count": 14,
   "id": "hydraulic-passing",
   "metadata": {},
   "outputs": [],
   "source": [
    "# Instantiate cloudfront client\n",
    "cloudfront = boto3.client(\n",
    "    'cloudfront',\n",
    "    aws_access_key_id=AWS_ACCESS_KEY,\n",
    "    aws_secret_access_key=SECRET_ACCESS_KEY\n",
    ")"
   ]
  },
  {
   "cell_type": "code",
   "execution_count": 15,
   "id": "local-finnish",
   "metadata": {},
   "outputs": [
    {
     "data": {
      "text/plain": [
       "{'ResponseMetadata': {'RequestId': '5fc3bea0-ffdc-46bf-b8ff-cdbeda682419',\n",
       "  'HTTPStatusCode': 201,\n",
       "  'HTTPHeaders': {'x-amzn-requestid': '5fc3bea0-ffdc-46bf-b8ff-cdbeda682419',\n",
       "   'etag': 'EWI3UVWK163ZQ',\n",
       "   'location': 'https://cloudfront.amazonaws.com/2020-05-31/origin-access-identity/cloudfront/E2IH1SFTJD8T91',\n",
       "   'content-type': 'text/xml',\n",
       "   'content-length': '445',\n",
       "   'date': 'Fri, 19 Mar 2021 19:38:58 GMT'},\n",
       "  'RetryAttempts': 0},\n",
       " 'Location': 'https://cloudfront.amazonaws.com/2020-05-31/origin-access-identity/cloudfront/E2IH1SFTJD8T91',\n",
       " 'ETag': 'EWI3UVWK163ZQ',\n",
       " 'CloudFrontOriginAccessIdentity': {'Id': 'E2IH1SFTJD8T91',\n",
       "  'S3CanonicalUserId': '66b2eb16d3f5cc05911df75a2222ce40553b7d6d5a523fd30ce0b174271d239043a50d0896571354bc561778b55b82aa',\n",
       "  'CloudFrontOriginAccessIdentityConfig': {'CallerReference': 'hiro-udac',\n",
       "   'Comment': 'demo'}}}"
      ]
     },
     "execution_count": 15,
     "metadata": {},
     "output_type": "execute_result"
    }
   ],
   "source": [
    "# Define an origin access identity to later restrict accesses to s3 origin location\n",
    "origin_identity_response = cloudfront.create_cloud_front_origin_access_identity(\n",
    "    CloudFrontOriginAccessIdentityConfig={\n",
    "        'CallerReference': 'hiro-udac',\n",
    "        'Comment': 'demo'\n",
    "    }\n",
    ")\n",
    "\n",
    "origin_identity_response"
   ]
  },
  {
   "cell_type": "code",
   "execution_count": 16,
   "id": "medium-incidence",
   "metadata": {},
   "outputs": [
    {
     "data": {
      "text/plain": [
       "'E2IH1SFTJD8T91'"
      ]
     },
     "execution_count": 16,
     "metadata": {},
     "output_type": "execute_result"
    }
   ],
   "source": [
    "# Get origin access identity id from the response\n",
    "origin_access_identity = origin_identity_response['CloudFrontOriginAccessIdentity']['Id']\n",
    "origin_access_identity"
   ]
  },
  {
   "cell_type": "markdown",
   "id": "intelligent-british",
   "metadata": {},
   "source": [
    "# 5. Launch distribution"
   ]
  },
  {
   "cell_type": "code",
   "execution_count": 17,
   "id": "lesbian-postcard",
   "metadata": {},
   "outputs": [],
   "source": [
    "# Configure the cloudfront distribution\n",
    "distribution_config = {\n",
    "    'CallerReference': 'hiro-udac-demo-dist',\n",
    "    'DefaultRootObject': 'index.html',\n",
    "    'Origins': {'Quantity': 1,\n",
    "                'Items': [\n",
    "                    {\n",
    "                        'Id':'origin1',\n",
    "                        'DomainName': BUCKET_NAME + '.s3.us-west-2.amazonaws.com',\n",
    "                        'OriginPath': '',\n",
    "                        'S3OriginConfig': {\n",
    "                            'OriginAccessIdentity': 'origin-access-identity/cloudfront/' + origin_access_identity\n",
    "                        }\n",
    "                    }\n",
    "                ]},\n",
    "    'DefaultCacheBehavior': {\n",
    "                    'TargetOriginId':'origin1',\n",
    "                    'ViewerProtocolPolicy': 'redirect-to-https',\n",
    "                    'CachePolicyId':'658327ea-f89d-4fab-a63d-7e88639e58f6'\n",
    "                },\n",
    "    'Comment': 'hiro-udac-demo',\n",
    "    'Enabled': True\n",
    "}"
   ]
  },
  {
   "cell_type": "code",
   "execution_count": 18,
   "id": "considered-stock",
   "metadata": {},
   "outputs": [
    {
     "data": {
      "text/plain": [
       "{'ResponseMetadata': {'RequestId': '980b7bff-186a-44e7-ab12-f089a839e1a4',\n",
       "  'HTTPStatusCode': 201,\n",
       "  'HTTPHeaders': {'x-amzn-requestid': '980b7bff-186a-44e7-ab12-f089a839e1a4',\n",
       "   'etag': 'E1I5GF80SNDS6W',\n",
       "   'location': 'https://cloudfront.amazonaws.com/2020-05-31/distribution/E5B9ZXU3X8MJ',\n",
       "   'content-type': 'text/xml',\n",
       "   'content-length': '2936',\n",
       "   'date': 'Fri, 19 Mar 2021 19:45:22 GMT'},\n",
       "  'RetryAttempts': 0},\n",
       " 'Location': 'https://cloudfront.amazonaws.com/2020-05-31/distribution/E5B9ZXU3X8MJ',\n",
       " 'ETag': 'E1I5GF80SNDS6W',\n",
       " 'Distribution': {'Id': 'E5B9ZXU3X8MJ',\n",
       "  'ARN': 'arn:aws:cloudfront::859485984029:distribution/E5B9ZXU3X8MJ',\n",
       "  'Status': 'InProgress',\n",
       "  'LastModifiedTime': datetime.datetime(2021, 3, 19, 19, 45, 22, 821000, tzinfo=tzutc()),\n",
       "  'InProgressInvalidationBatches': 0,\n",
       "  'DomainName': 'd24eiq5diaxse5.cloudfront.net',\n",
       "  'ActiveTrustedSigners': {'Enabled': False, 'Quantity': 0},\n",
       "  'ActiveTrustedKeyGroups': {'Enabled': False, 'Quantity': 0},\n",
       "  'DistributionConfig': {'CallerReference': 'hiro-udac-demo-dist',\n",
       "   'Aliases': {'Quantity': 0},\n",
       "   'DefaultRootObject': 'index.html',\n",
       "   'Origins': {'Quantity': 1,\n",
       "    'Items': [{'Id': 'origin1',\n",
       "      'DomainName': 'udac-static-webapp-demo.s3.us-west-2.amazonaws.com',\n",
       "      'OriginPath': '',\n",
       "      'CustomHeaders': {'Quantity': 0},\n",
       "      'S3OriginConfig': {'OriginAccessIdentity': 'origin-access-identity/cloudfront/E2IH1SFTJD8T91'},\n",
       "      'ConnectionAttempts': 3,\n",
       "      'ConnectionTimeout': 10,\n",
       "      'OriginShield': {'Enabled': False}}]},\n",
       "   'OriginGroups': {'Quantity': 0},\n",
       "   'DefaultCacheBehavior': {'TargetOriginId': 'origin1',\n",
       "    'TrustedSigners': {'Enabled': False, 'Quantity': 0},\n",
       "    'TrustedKeyGroups': {'Enabled': False, 'Quantity': 0},\n",
       "    'ViewerProtocolPolicy': 'redirect-to-https',\n",
       "    'AllowedMethods': {'Quantity': 2,\n",
       "     'Items': ['HEAD', 'GET'],\n",
       "     'CachedMethods': {'Quantity': 2, 'Items': ['HEAD', 'GET']}},\n",
       "    'SmoothStreaming': False,\n",
       "    'Compress': False,\n",
       "    'LambdaFunctionAssociations': {'Quantity': 0},\n",
       "    'FieldLevelEncryptionId': '',\n",
       "    'CachePolicyId': '658327ea-f89d-4fab-a63d-7e88639e58f6'},\n",
       "   'CacheBehaviors': {'Quantity': 0},\n",
       "   'CustomErrorResponses': {'Quantity': 0},\n",
       "   'Comment': 'hiro-udac-demo',\n",
       "   'Logging': {'Enabled': False,\n",
       "    'IncludeCookies': False,\n",
       "    'Bucket': '',\n",
       "    'Prefix': ''},\n",
       "   'PriceClass': 'PriceClass_All',\n",
       "   'Enabled': True,\n",
       "   'ViewerCertificate': {'CloudFrontDefaultCertificate': True,\n",
       "    'MinimumProtocolVersion': 'TLSv1',\n",
       "    'CertificateSource': 'cloudfront'},\n",
       "   'Restrictions': {'GeoRestriction': {'RestrictionType': 'none',\n",
       "     'Quantity': 0}},\n",
       "   'WebACLId': '',\n",
       "   'HttpVersion': 'http2',\n",
       "   'IsIPV6Enabled': True}}}"
      ]
     },
     "execution_count": 18,
     "metadata": {},
     "output_type": "execute_result"
    }
   ],
   "source": [
    "# launch distribution \n",
    "distribution_response = cloudfront.create_distribution(\n",
    "    DistributionConfig=distribution_config)\n",
    "\n",
    "distribution_response"
   ]
  },
  {
   "cell_type": "markdown",
   "id": "tender-lesson",
   "metadata": {},
   "source": [
    "## View the website"
   ]
  },
  {
   "cell_type": "code",
   "execution_count": 25,
   "id": "induced-franklin",
   "metadata": {},
   "outputs": [
    {
     "data": {
      "text/plain": [
       "'d24eiq5diaxse5.cloudfront.net'"
      ]
     },
     "execution_count": 25,
     "metadata": {},
     "output_type": "execute_result"
    }
   ],
   "source": [
    "# Copy and Paste the the domain name in your browser and view the website\n",
    "distribution_response['Distribution']['DomainName']"
   ]
  }
 ],
 "metadata": {
  "kernelspec": {
   "display_name": "Python 3",
   "language": "python",
   "name": "python3"
  },
  "language_info": {
   "codemirror_mode": {
    "name": "ipython",
    "version": 3
   },
   "file_extension": ".py",
   "mimetype": "text/x-python",
   "name": "python",
   "nbconvert_exporter": "python",
   "pygments_lexer": "ipython3",
   "version": "3.8.0"
  }
 },
 "nbformat": 4,
 "nbformat_minor": 5
}
